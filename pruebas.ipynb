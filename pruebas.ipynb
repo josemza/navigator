{
 "cells": [
  {
   "cell_type": "code",
   "execution_count": 1,
   "metadata": {},
   "outputs": [],
   "source": [
    "import json\n",
    "import networkx as nx\n",
    "import matplotlib.pyplot as plt\n",
    "import numpy as np\n",
    "import matplotlib.pyplot as plt\n",
    "import timeit\n",
    "from functools import partial"
   ]
  },
  {
   "cell_type": "code",
   "execution_count": 2,
   "metadata": {},
   "outputs": [],
   "source": [
    "class Node:\n",
    "    def __init__(self, id, goal, deadend, heuristic):\n",
    "        self.id = id\n",
    "        self.goal = goal\n",
    "        self.deadend = deadend\n",
    "        self.heuristic = heuristic\n",
    "        self.adjacencies = []  # List of adjacencies\n",
    "\n",
    "    def add_adjacency(self, node_name, actions):\n",
    "        self.adjacencies.append((node_name, actions))\n",
    "\n",
    "    def __repr__(self):\n",
    "        return f\"Node({self.id}, Goal={self.goal}, DeadEnd={self.deadend}, Heuristic={self.heuristic}, Adjacencies={self.adjacencies})\"\n",
    "\n",
    "class Own_graph:\n",
    "    def __init__(self, json_file):\n",
    "        self.rows = int(json_file[json_file.find('navigator') + 9]) if 'navigator' in json_file else 5  # default to 5 columns if not specified\n",
    "        self.json_file = json_file\n",
    "        self.nodes = {}\n",
    "        self.G = nx.MultiDiGraph()\n",
    "        self.goal = str\n",
    "        self.deadend = str\n",
    "        self.load_nodes_from_json()\n",
    "        self.create_graph_from_nodes()\n",
    "        self.columns = (len(self.G.nodes())) // self.rows\n",
    "        self.start = str(self.rows * (self.columns - 1) + 1)\n",
    "\n",
    "    def load_nodes_from_json(self):\n",
    "        with open(self.json_file, 'r') as file:\n",
    "            data = json.load(file)\n",
    "\n",
    "        #for key, value in data.items():\n",
    "        for i in range(len(data)):\n",
    "            key = str(i+1)\n",
    "            value = data[key]\n",
    "            \n",
    "            if value['goal']:\n",
    "                self.goal = key\n",
    "            \n",
    "            if value['deadend']:\n",
    "                self.deadend = key\n",
    "\n",
    "            node = Node(key, value['goal'], value['deadend'], value['heuristic'])\n",
    "            for adj in value['Adj']:\n",
    "                node.add_adjacency(adj['name'], adj['A'])\n",
    "            self.nodes[key] = node\n",
    "\n",
    "    def create_graph_from_nodes(self):\n",
    "        # Añadir nodos\n",
    "        for node_id, node in self.nodes.items():\n",
    "            self.G.add_node(node_id, goal=node.goal, deadend=node.deadend, heuristic=node.heuristic)\n",
    "\n",
    "        # Añadir aristas con pesos y probabilidades\n",
    "        for node_id, node in self.nodes.items():\n",
    "            for adj_name, actions in node.adjacencies:\n",
    "                for action, prob in actions.items():\n",
    "                    self.G.add_edge(node_id, adj_name, action=action, weight=1, probability=prob)\n",
    "\n",
    "    def visualize_node_and_neighbors(self, node_id):\n",
    "        if node_id in self.G:\n",
    "            # Crear un subgrafo con el nodo y sus vecinos\n",
    "            neighbors = list(self.G.neighbors(node_id))\n",
    "            subgraph_nodes = neighbors + [node_id]\n",
    "            subG = self.G.subgraph(subgraph_nodes)\n",
    "\n",
    "            pos = nx.spring_layout(subG)  # Posiciones para un buen layout\n",
    "            nx.draw(subG, pos, with_labels=True, node_color='lightblue', node_size=3000)\n",
    "            labels = nx.get_edge_attributes(subG, 'probability')\n",
    "            nx.draw_networkx_edge_labels(subG, pos, edge_labels=labels)\n",
    "\n",
    "            # Destacar el nodo principal\n",
    "            nx.draw_networkx_nodes(subG, pos, nodelist=[node_id], node_color='red', node_size=3000)\n",
    "            plt.title(f\"Visualización del Nodo {node_id} y sus Vecinos\")\n",
    "            plt.show()\n",
    "        else:\n",
    "            print(f\"El nodo con ID {node_id} no existe en el grafo.\")\n",
    "\n",
    "    def visualize_grid(self):\n",
    "        posiciones = {}\n",
    "        step_x = 1  # Espacio horizontal entre nodos\n",
    "        step_y = -1  # Espacio vertical entre nodos\n",
    "        start_pos = (0, 0)  # Posición inicial en el canvas\n",
    "\n",
    "        for i, node in enumerate(self.G.nodes()):\n",
    "            col = i // self.rows\n",
    "            row = i % self.rows\n",
    "            posiciones[node] = (start_pos[0] + col * step_x, start_pos[1] + row * step_y)\n",
    "\n",
    "        nx.draw(self.G, posiciones, with_labels=True, node_color='lightgreen', node_size=500)\n",
    "\n",
    "        plt.title(\"Grafo Personalizado en Forma de Grid\")\n",
    "        plt.show()\n",
    "    \n",
    "    def visualize_path(self, v_path):\n",
    "        posiciones = {}\n",
    "        step_x = 1  # Espacio horizontal entre nodos\n",
    "        step_y = -1  # Espacio vertical entre nodos\n",
    "        start_pos = (0, 0)  # Posición inicial en el canvas\n",
    "        path = [v_path[n] for n in range(len(v_path)) if n % 2 == 0 ]\n",
    "\n",
    "        for i, node in enumerate(self.G.nodes()):\n",
    "            col = i // self.rows\n",
    "            row = i % self.rows\n",
    "            posiciones[node] = (start_pos[0] + col * step_x, start_pos[1] + row * step_y)\n",
    "\n",
    "        # Dibujar el grafo completo\n",
    "        nx.draw(self.G, posiciones, with_labels=True, node_color='gray', node_size=500, edge_color='gray')\n",
    "\n",
    "        # Resaltar la ruta\n",
    "        path_edges = [(path[i], path[i+1]) for i in range(len(path)-1)]\n",
    "        nx.draw_networkx_nodes(self.G, posiciones, nodelist=path, node_color='red', node_size=700)\n",
    "        nx.draw_networkx_edges(self.G, posiciones, edgelist=path_edges, edge_color='red', width=2)\n",
    "\n",
    "        plt.title(\"Ruta en el Grafo\")\n",
    "        plt.show()\n"
   ]
  },
  {
   "cell_type": "code",
   "execution_count": 4,
   "metadata": {},
   "outputs": [],
   "source": [
    "class algorithms():\n",
    "    def __init__(self):\n",
    "        pass\n",
    "    \n",
    "    def calculate_node_value(self,node,v_nodes,grafo):\n",
    "        values = np.array([1.0,1.0,1.0,1.0]) # inicializamos los valores de los 4 caminos posibles (N,S,E,W) de cada estado\n",
    "        i = np.array([np.inf,np.inf,np.inf,np.inf]) # \n",
    "        next_node = [grafo.deadend,grafo.deadend,grafo.deadend,grafo.deadend]\n",
    "        \n",
    "        for neighbor in grafo.G[node]:\n",
    "            for edge in grafo.G[node][neighbor]:\n",
    "                if grafo.G[node][neighbor][edge]['action'] == 'N':\n",
    "                    values[0] += grafo.G[node][neighbor][edge]['probability']*v_nodes[neighbor]*0.9\n",
    "                    i[0] = 1\n",
    "                    if grafo.deadend != neighbor:\n",
    "                        next_node[0] = neighbor\n",
    "                if grafo.G[node][neighbor][edge]['action'] == 'S':\n",
    "                    values[1] += grafo.G[node][neighbor][edge]['probability']*v_nodes[neighbor]*0.9\n",
    "                    i[1] = 1\n",
    "                    if grafo.deadend != neighbor:\n",
    "                        next_node[1] = neighbor\n",
    "                if grafo.G[node][neighbor][edge]['action'] == 'E':\n",
    "                    values[2] += grafo.G[node][neighbor][edge]['probability']*v_nodes[neighbor]*0.9\n",
    "                    i[2] = 1\n",
    "                    if grafo.deadend != neighbor:\n",
    "                        next_node[2] = neighbor\n",
    "                if grafo.G[node][neighbor][edge]['action'] == 'W':\n",
    "                    values[3] += grafo.G[node][neighbor][edge]['probability']*v_nodes[neighbor]*0.9\n",
    "                    i[3] = 1\n",
    "                    if grafo.deadend != neighbor:\n",
    "                        next_node[3] = neighbor\n",
    "                if grafo.G._node[node]['goal']:\n",
    "                    values[0] = 0\n",
    "\n",
    "        return min(values*i), np.argmin(values*i), next_node[np.argmin(values*i)] # (menor valor, direccion, siguiente nodo)\n",
    "\n",
    "    def inicialization(self,grafo):\n",
    "        # inicializamos los valores de los estados del grafo\n",
    "        v_nodes = {} # creamos un diccionario que almacene los valores de los estados del grafo\n",
    "        for node_id,node in grafo.G.nodes.items():\n",
    "            v_nodes[node_id] = abs(int(node_id) - int(grafo.goal))*1.5\n",
    "        return v_nodes\n",
    "\n",
    "    def decode_path(self,meta,path,nodo_id,dic_path= {0:'↑', 1:'↓', 2:'→', 3:'←'}):\n",
    "        if nodo_id == int(meta) -1:\n",
    "            lista = []\n",
    "            lista.append(meta)\n",
    "            return lista\n",
    "        else:\n",
    "            _nodo_id = int(path[nodo_id][1]) - 1\n",
    "            tup = str(nodo_id + 1),dic_path[path[nodo_id][0]]\n",
    "            lista = list(tup) + self.decode_path(meta,path,_nodo_id,dic_path)\n",
    "            \n",
    "            return lista\n",
    "        \n",
    "    def iteration_value_alg(self,grafo,delta=0.01):\n",
    "        v_nodes = self.inicialization(grafo)\n",
    "        print(f'Nodos inicializados: \\n{v_nodes}\\n')\n",
    "\n",
    "        table = []\n",
    "        table_arrows = []\n",
    "        arrows_dict = {0:'↑', 1:'↓', 2:'→', 3:'←'}\n",
    "        table.append(list(v_nodes.values()))\n",
    "        _delta = np.inf\n",
    "        iteracion = 0\n",
    "        \n",
    "        while True:\n",
    "            path = []\n",
    "            arrows = []\n",
    "            current_values = list(v_nodes.values())\n",
    "            for key, value in v_nodes.items():\n",
    "                v_nodes[key], direction, next_node = self.calculate_node_value(str(key),v_nodes,grafo)\n",
    "                path.append((direction, next_node))\n",
    "                arrows.append(arrows_dict[direction])\n",
    "            _delta = np.abs(np.array(current_values)-np.array(list(v_nodes.values())))\n",
    "            table.append(list(v_nodes.values()))\n",
    "            table_arrows.append(arrows)\n",
    "            iteracion += 1\n",
    "            # print(list(v_nodes.values()))\n",
    "\n",
    "            if max(_delta[:-1]) < delta:\n",
    "                print(f'\\nNúmero de iteraciones: {iteracion}\\n')\n",
    "                break\n",
    "        \n",
    "        nodo_inicial = int(grafo.start) - 1\n",
    "        decoded_path = self.decode_path(grafo.goal,path,nodo_inicial)\n",
    "\n",
    "        return np.array(table), np.array(table_arrows), decoded_path\n",
    "\n",
    "# inicialization_callable = partial(iteration_value_alg, grafo)\n",
    "\n",
    "# execution_time = timeit.timeit(inicialization_callable,number=1)\n",
    "# print(f'\\nTiempo ejecución: {execution_time}')"
   ]
  },
  {
   "cell_type": "code",
   "execution_count": 7,
   "metadata": {},
   "outputs": [],
   "source": [
    "grafo = Own_graph('./test_cases/navigator3-2-0-0.json')\n",
    "# algo = algorithms()\n",
    "# grafo.visualize_grid()\n",
    "\n",
    "# table, table_arrows, path = algo.iteration_value_alg(grafo,0.01)\n",
    "\n",
    "# print('Tabla de valores\\n')\n",
    "# for fila in table:\n",
    "#     print(fila)\n",
    "\n",
    "# print('\\nTabla de direcciones\\n')\n",
    "# for fila in table_arrows:\n",
    "#     print(fila)\n",
    "\n",
    "\n",
    "# grafo.visualize_path(path)"
   ]
  },
  {
   "cell_type": "code",
   "execution_count": 22,
   "metadata": {},
   "outputs": [
    {
     "name": "stdout",
     "output_type": "stream",
     "text": [
      "N\n",
      "N\n",
      "N\n",
      "W\n",
      "N\n",
      "E\n",
      "N\n"
     ]
    }
   ],
   "source": [
    "pol = []\n",
    "for nodo in grafo.G.nodes():\n",
    "    for neighborg in grafo.G[nodo]:\n",
    "        if neighborg != grafo.deadend:\n",
    "            pol.append(grafo.G[nodo][neighborg][0]['action'])\n",
    "            break\n",
    "pol.append(grafo.G[grafo.deadend][neighborg][0]['action'])"
   ]
  },
  {
   "cell_type": "code",
   "execution_count": null,
   "metadata": {},
   "outputs": [],
   "source": [
    "for neighbor in grafo.G[node]:\n",
    "    for edge in grafo.G[node][neighbor]:\n",
    "        if grafo.G[node][neighbor][edge]['action'] == policy[node]:\n",
    "            values[0] += grafo.G[node][neighbor][edge]['probability']*v_nodes[neighbor]*0.9\n",
    "            i[0] = 1\n",
    "            if grafo.deadend != neighbor:\n",
    "                next_node[0] = neighbor"
   ]
  },
  {
   "cell_type": "code",
   "execution_count": 41,
   "metadata": {},
   "outputs": [],
   "source": [
    "actions_dict = {'N':0, 'S':1, 'E':2, 'W':3}\n",
    "d2 = {'N':0, 'S':1, 'E':2, 'W':2}"
   ]
  },
  {
   "cell_type": "code",
   "execution_count": null,
   "metadata": {},
   "outputs": [],
   "source": [
    "# Diccionario original con puntos cardinales\n",
    "puntos_cardinales = {\n",
    "    '2': 'N',\n",
    "    '5': 'S',\n",
    "    '6': 'E',\n",
    "    '8': 'O'\n",
    "}\n",
    "\n",
    "# Cambiar los valores por las flechas correspondientes\n",
    "puntos_cardinales['norte'] = '↑'\n",
    "puntos_cardinales['sur'] = '↓'\n",
    "puntos_cardinales['este'] = '→'\n",
    "puntos_cardinales['oeste'] = '←'"
   ]
  },
  {
   "cell_type": "code",
   "execution_count": 44,
   "metadata": {},
   "outputs": [
    {
     "name": "stdout",
     "output_type": "stream",
     "text": [
      "{'2': '↑', '5': '↓', '6': '→', '8': '←'}\n"
     ]
    }
   ],
   "source": [
    "# Diccionario original\n",
    "puntos_cardinales = {\n",
    "    '2': 'N',\n",
    "    '5': 'S',\n",
    "    '6': 'E',\n",
    "    '8': 'O'\n",
    "}\n",
    "\n",
    "# Diccionario de mapeo de puntos cardinales a flechas\n",
    "mapa_flechas = {\n",
    "    'N': '↑',\n",
    "    'S': '↓',\n",
    "    'E': '→',\n",
    "    'O': '←'\n",
    "}\n",
    "\n",
    "# Actualizar el diccionario original con las flechas\n",
    "puntos_cardinales_actualizados = {k: mapa_flechas[v] for k, v in puntos_cardinales.items()}\n",
    "\n",
    "print(puntos_cardinales_actualizados)\n"
   ]
  },
  {
   "cell_type": "code",
   "execution_count": null,
   "metadata": {},
   "outputs": [],
   "source": [
    "l = ['N','S','E','W','N']"
   ]
  },
  {
   "cell_type": "code",
   "execution_count": 45,
   "metadata": {},
   "outputs": [
    {
     "name": "stdout",
     "output_type": "stream",
     "text": [
      "['↑', '↓', '→', '←', '↑', '←', '→']\n"
     ]
    }
   ],
   "source": [
    "lista_puntos_cardinales = ['N', 'S', 'E', 'O', 'N', 'O', 'E']\n",
    "nuevos_valores = {\n",
    "    'N': '↑',\n",
    "    'S': '↓',\n",
    "    'E': '→',\n",
    "    'O': '←'\n",
    "}\n",
    "\n",
    "# Transformar la lista de puntos cardinales a flechas\n",
    "lista_flechas = [nuevos_valores[dir] for dir in lista_puntos_cardinales]\n",
    "\n",
    "# Imprimir la lista transformada\n",
    "print(lista_flechas)"
   ]
  },
  {
   "cell_type": "code",
   "execution_count": 43,
   "metadata": {},
   "outputs": [
    {
     "data": {
      "text/plain": [
       "True"
      ]
     },
     "execution_count": 43,
     "metadata": {},
     "output_type": "execute_result"
    }
   ],
   "source": [
    "d2 != actions_dict"
   ]
  },
  {
   "cell_type": "code",
   "execution_count": 37,
   "metadata": {},
   "outputs": [
    {
     "name": "stdout",
     "output_type": "stream",
     "text": [
      "E\n"
     ]
    }
   ],
   "source": [
    "claves = [k for k, v in actions_dict.items() if v == 2]\n",
    "print(claves[0])"
   ]
  },
  {
   "cell_type": "code",
   "execution_count": 33,
   "metadata": {},
   "outputs": [
    {
     "data": {
      "text/plain": [
       "array([], dtype='<U1')"
      ]
     },
     "execution_count": 33,
     "metadata": {},
     "output_type": "execute_result"
    }
   ],
   "source": [
    "l1 = np.array(list(actions_dict.keys()))\n",
    "l1[l1==2]\n",
    "# print(actions_dict.values()[actions_dict.values() == 2])"
   ]
  },
  {
   "cell_type": "code",
   "execution_count": 34,
   "metadata": {},
   "outputs": [
    {
     "data": {
      "text/plain": [
       "dict_items([('N', 0), ('S', 1), ('E', 2), ('W', 3)])"
      ]
     },
     "execution_count": 34,
     "metadata": {},
     "output_type": "execute_result"
    }
   ],
   "source": [
    "actions_dict.items()"
   ]
  },
  {
   "cell_type": "code",
   "execution_count": 48,
   "metadata": {},
   "outputs": [
    {
     "data": {
      "text/plain": [
       "10"
      ]
     },
     "execution_count": 48,
     "metadata": {},
     "output_type": "execute_result"
    }
   ],
   "source": [
    "a = np.array([2,3,1,2])\n",
    "b = np.array([1,1,1,2])\n",
    "\n",
    "np.matmul(a,b)"
   ]
  },
  {
   "cell_type": "code",
   "execution_count": 49,
   "metadata": {},
   "outputs": [
    {
     "data": {
      "text/plain": [
       "array([2, 3, 1, 4])"
      ]
     },
     "execution_count": 49,
     "metadata": {},
     "output_type": "execute_result"
    }
   ],
   "source": [
    "a*b"
   ]
  }
 ],
 "metadata": {
  "kernelspec": {
   "display_name": "navigator",
   "language": "python",
   "name": "python3"
  },
  "language_info": {
   "codemirror_mode": {
    "name": "ipython",
    "version": 3
   },
   "file_extension": ".py",
   "mimetype": "text/x-python",
   "name": "python",
   "nbconvert_exporter": "python",
   "pygments_lexer": "ipython3",
   "version": "3.12.3"
  }
 },
 "nbformat": 4,
 "nbformat_minor": 2
}
